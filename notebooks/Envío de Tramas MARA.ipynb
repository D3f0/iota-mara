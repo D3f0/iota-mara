{
 "cells": [
  {
   "cell_type": "markdown",
   "metadata": {},
   "source": [
    "# Generación de MARA\n",
    "El objetivo de este Notebook es enviar protocolo Mara aprovechando [los widgets interactivos de IPython](http://ipywidgets.readthedocs.io/en/stable/examples/Widget%20List.html)"
   ]
  },
  {
   "cell_type": "markdown",
   "metadata": {},
   "source": [
    "# Definición de UI con [`IPywidgets`](https://github.com/jupyter-widgets/ipywidgets)"
   ]
  },
  {
   "cell_type": "code",
   "execution_count": 1,
   "metadata": {
    "collapsed": true
   },
   "outputs": [],
   "source": [
    "from functools import partial"
   ]
  },
  {
   "cell_type": "code",
   "execution_count": 4,
   "metadata": {},
   "outputs": [],
   "source": [
    "from enum import Enum\n",
    "class MARA(Enum):\n",
    "    SOF = 0\n",
    "    QTY = 1\n",
    "    DST = 2\n",
    "    SRC = 3\n",
    "    SEQ = 4\n",
    "    COM = 5\n",
    "    \n",
    "frame = bytearray(255)\n",
    "frame[MARA.SOF.value] = 0xFE\n",
    "frame[MARA.QTY.value] = 8\n",
    "\n",
    "def frame_to_hex(frame_barray):\n",
    "    length = 10\n",
    "    output = frame_barray.hex().upper()\n",
    "    return ' '.join(\n",
    "        [output[x:x+2] for x in range(0, length, 2)]\n",
    "    )"
   ]
  },
  {
   "cell_type": "code",
   "execution_count": 62,
   "metadata": {
    "run_control": {
     "marked": true
    }
   },
   "outputs": [
    {
     "data": {
      "application/vnd.jupyter.widget-view+json": {
       "model_id": "64dddf066818445caea06f8eb395c662",
       "version_major": 2,
       "version_minor": 0
      },
      "text/plain": [
       "A Jupyter Widget"
      ]
     },
     "metadata": {},
     "output_type": "display_data"
    },
    {
     "name": "stdout",
     "output_type": "stream",
     "text": [
      "{'value': 36}\n",
      "36\n",
      "{}\n",
      "{'value': 111}\n",
      "111\n",
      "{}\n",
      "{'value': 342}\n",
      "342\n",
      "{}\n",
      "{'value': 400}\n",
      "400\n",
      "{}\n",
      "{'value': 441}\n",
      "441\n",
      "{}\n",
      "{'value': 12}\n",
      "12\n",
      "{}\n",
      "{'value': 53}\n",
      "53\n",
      "{}\n",
      "{'value': 152}\n",
      "152\n",
      "{}\n",
      "{'value': 235}\n",
      "235\n",
      "{}\n",
      "{'value': 301}\n",
      "301\n",
      "{}\n",
      "{'value': 309}\n",
      "309\n",
      "{}\n",
      "{'value': 12}\n",
      "12\n",
      "{}\n",
      "{'value': 69}\n",
      "69\n",
      "{}\n",
      "{'value': 226}\n",
      "226\n",
      "{}\n",
      "{'value': 424}\n",
      "424\n",
      "{}\n",
      "{'value': 466}\n",
      "466\n",
      "{}\n",
      "{'value': 474}\n",
      "474\n",
      "{}\n",
      "{'value': 491}\n",
      "491\n",
      "{}\n",
      "{'value': 524}\n",
      "524\n",
      "{}\n",
      "{'value': 573}\n",
      "573\n",
      "{}\n",
      "{'value': 590}\n",
      "590\n",
      "{}\n",
      "{'value': 598}\n",
      "598\n",
      "{}\n",
      "{'value': 738}\n",
      "738\n",
      "{}\n",
      "{'value': 821}\n",
      "821\n",
      "{}\n",
      "{'value': 846}\n",
      "846\n",
      "{}\n"
     ]
    }
   ],
   "source": [
    "# Importación\n",
    "from ipywidgets import (\n",
    "    Button, Checkbox, IntText, Password, Dropdown, IntSlider,\n",
    "    Text, Label,\n",
    "    HTML, \n",
    "    HBox, VBox, Accordion, Box, Layout\n",
    ")\n",
    "\n",
    "# Botón de envío\n",
    "btn_send = Button(description=\"SEND!\")\n",
    "\n",
    "# Contadores\n",
    "DI_ROW = 8\n",
    "DI_COUNT = 16\n",
    "\n",
    "disposicion = Layout(\n",
    "    display='inline-flex',\n",
    "    flex_flow='row wrap',\n",
    "    #align_items='stretch',\n",
    "    #border='solid',\n",
    "    #width='50%',\n",
    ")\n",
    "\n",
    "# DIs\n",
    "DIS = []\n",
    "checkbox_rows = []\n",
    "\n",
    "VSS = []\n",
    "VS_COUNT = 6\n",
    "\n",
    "for i in range(VS_COUNT):\n",
    "    widget = IntText(description='VS %d' % i)\n",
    "    VSS.append(widget)\n",
    "varsys_container = Box(\n",
    "    VSS,\n",
    "    layout=disposicion\n",
    ")\n",
    "\n",
    "\n",
    "for i in range(DI_COUNT//DI_ROW):\n",
    "    checkboxes = []\n",
    "    for j in range(DI_ROW):\n",
    "        num =  j + DI_ROW * i\n",
    "        cb = Checkbox(description=\"%s\" % num)\n",
    "        cb.style.description_width = '0'\n",
    "        \n",
    "        cb.margin = '0'\n",
    "        cb.number = num\n",
    "        \n",
    "        checkboxes.append(cb)\n",
    "    checkbox_rows.append(\n",
    "        HBox(children=checkboxes)\n",
    "    )\n",
    "    DIS.extend(checkboxes)\n",
    "    \n",
    "CAN_AIS = 6\n",
    "\n",
    "def generate_ai(num):\n",
    "    return IntSlider(description=\"AI %d\" % num, min=0, max=2**10)\n",
    "\n",
    "AIS = [generate_ai(i) for i in range(CAN_AIS)]\n",
    "ai_container = Box(AIS, layout=disposicion)\n",
    "\n",
    "# Parámetros MQTT\n",
    "host_text = Text(\"mqtt.ignorelist.com\", description=\"Host\")\n",
    "port_int = IntText(1883, description=\"Broker PORT\")\n",
    "user_text = Text(\"\", description=\"User\")\n",
    "password = Password(\"\", description=\"Pass\")\n",
    "topic_text = Text(\"inTopic\", description='Topic')\n",
    "qos_dropdown = Dropdown(options=[(0, 0), (1, 1,), (2, 2)], description=\"QoS\")\n",
    "\n",
    "\n",
    "# Parémetros MARA\n",
    "mara_src = IntText(value=1, description='SRC', min=0, max=64)\n",
    "mara_dst = IntText(value=64, description='DST', min=0, max=64)\n",
    "mara_seq = IntText(1, description='Seq')\n",
    "mara_cmd = IntText(0x10, description='Cmd')\n",
    "\n",
    "# Campo para mostrar la salida MARA\n",
    "output_frame = HTML(value=frame_to_hex(frame), description=\"↳\")\n",
    "\n",
    "# Acordeón \n",
    "communication = Accordion(\n",
    "    children=[\n",
    "        Box(\n",
    "            [host_text,port_int, user_text, \n",
    "             password, topic_text, qos_dropdown,],\n",
    "            layout=disposicion\n",
    "        ),\n",
    "        Box(\n",
    "            [mara_src, mara_dst, mara_seq, mara_cmd],\n",
    "            layout=disposicion,\n",
    "        )\n",
    "    ]\n",
    ")\n",
    "\n",
    "communication.set_title(0, \"MQTT\")\n",
    "communication.set_title(1, \"MARA\")\n",
    "\n",
    "# Creación del formulario\n",
    "UI = VBox([\n",
    "    HTML(\"<h3>Envío de Mara</h3>\"\n",
    "        \"Enviar mensajes <b>MARA</b> al siguiente <i>broker</i>\"),\n",
    "    communication,\n",
    "    \n",
    "    Label('VarSys'), varsys_container,\n",
    "    \n",
    "    Label(\"DIs\"), *checkbox_rows,\n",
    "    \n",
    "    Label(\"AIs\"), ai_container, \n",
    "    \n",
    "    HBox([\n",
    "        btn_send\n",
    "    ]),\n",
    "    HBox([\n",
    "        output_frame\n",
    "    ])\n",
    "])\n",
    "\n",
    "# Capturadores de evento\n",
    "for i, checkbox in enumerate(DIS):\n",
    "    checkbox.observe(lambda x: print(x.get('new')))\n",
    "    \n",
    "for slider in AIS:\n",
    "    slider.observe(lambda x: print(x.get('new')))\n",
    "        \n",
    "def update_field(change, position):\n",
    "    value = change.get('new')\n",
    "    frame[position] = value\n",
    "    output_frame.value = frame_to_hex(frame)\n",
    "\n",
    "mara_src.observe(partial(update_field, position=MARA.SRC.value), names=['value'])\n",
    "mara_dst.observe(partial(update_field, position=MARA.DST.value), names=['value'])\n",
    "mara_seq.observe(partial(update_field, position=MARA.SEQ.value), names=['value'])\n",
    "UI"
   ]
  },
  {
   "cell_type": "code",
   "execution_count": 47,
   "metadata": {},
   "outputs": [
    {
     "data": {
      "application/vnd.jupyter.widget-view+json": {
       "model_id": "de2b7d37d4974c6d8a17b146c83cd75d",
       "version_major": 2,
       "version_minor": 0
      },
      "text/plain": [
       "A Jupyter Widget"
      ]
     },
     "metadata": {},
     "output_type": "display_data"
    }
   ],
   "source": [
    "x = IntText()\n",
    "x.observe(lambda x: print(x), names=['value'])\n",
    "x"
   ]
  },
  {
   "cell_type": "code",
   "execution_count": 20,
   "metadata": {
    "collapsed": true
   },
   "outputs": [],
   "source": [
    "x.observe??"
   ]
  },
  {
   "cell_type": "code",
   "execution_count": 26,
   "metadata": {
    "collapsed": true
   },
   "outputs": [],
   "source": [
    "from ipywidgets import VBox"
   ]
  },
  {
   "cell_type": "code",
   "execution_count": 27,
   "metadata": {},
   "outputs": [
    {
     "data": {
      "text/plain": [
       "'ipywidgets.widgets.widget_box'"
      ]
     },
     "execution_count": 27,
     "metadata": {},
     "output_type": "execute_result"
    }
   ],
   "source": [
    "VBox.__module__"
   ]
  },
  {
   "cell_type": "code",
   "execution_count": 28,
   "metadata": {
    "collapsed": true
   },
   "outputs": [],
   "source": [
    "from ipywidgets.widgets.widget_box import Layout"
   ]
  },
  {
   "cell_type": "code",
   "execution_count": 35,
   "metadata": {
    "collapsed": true
   },
   "outputs": [],
   "source": [
    "import ipywidgets\n",
    "!code {ipywidgets.__path__[0]}"
   ]
  },
  {
   "cell_type": "code",
   "execution_count": 39,
   "metadata": {},
   "outputs": [
    {
     "ename": "TypeError",
     "evalue": "__init__() takes 1 positional argument but 2 were given",
     "output_type": "error",
     "traceback": [
      "\u001b[0;31m---------------------------------------------------------------------------\u001b[0m",
      "\u001b[0;31mTypeError\u001b[0m                                 Traceback (most recent call last)",
      "\u001b[0;32m<ipython-input-39-23e67d48dcb1>\u001b[0m in \u001b[0;36m<module>\u001b[0;34m()\u001b[0m\n\u001b[0;32m----> 1\u001b[0;31m \u001b[0ml\u001b[0m \u001b[0;34m=\u001b[0m \u001b[0mLayout\u001b[0m\u001b[0;34m(\u001b[0m\u001b[0mHBox\u001b[0m\u001b[0;34m(\u001b[0m\u001b[0mchildren\u001b[0m\u001b[0;34m=\u001b[0m\u001b[0;34m[\u001b[0m\u001b[0mIntSlider\u001b[0m\u001b[0;34m(\u001b[0m\u001b[0mdescription\u001b[0m\u001b[0;34m=\u001b[0m\u001b[0;34m'Slider %d'\u001b[0m \u001b[0;34m%\u001b[0m \u001b[0md\u001b[0m\u001b[0;34m)\u001b[0m \u001b[0;32mfor\u001b[0m \u001b[0md\u001b[0m \u001b[0;32min\u001b[0m \u001b[0mrange\u001b[0m\u001b[0;34m(\u001b[0m\u001b[0;36m16\u001b[0m\u001b[0;34m)\u001b[0m\u001b[0;34m]\u001b[0m\u001b[0;34m)\u001b[0m\u001b[0;34m)\u001b[0m\u001b[0;34m\u001b[0m\u001b[0m\n\u001b[0m\u001b[1;32m      2\u001b[0m \u001b[0ml\u001b[0m\u001b[0;34m\u001b[0m\u001b[0m\n",
      "\u001b[0;31mTypeError\u001b[0m: __init__() takes 1 positional argument but 2 were given"
     ]
    }
   ],
   "source": [
    "l = Layout(HBox(children=[IntSlider(description='Slider %d' % d) for d in range(16)]))\n",
    "l"
   ]
  },
  {
   "cell_type": "code",
   "execution_count": null,
   "metadata": {
    "collapsed": true
   },
   "outputs": [],
   "source": []
  },
  {
   "cell_type": "code",
   "execution_count": null,
   "metadata": {
    "collapsed": true
   },
   "outputs": [],
   "source": []
  }
 ],
 "metadata": {
  "kernelspec": {
   "display_name": "Python 3",
   "language": "python",
   "name": "python3"
  },
  "toc": {
   "nav_menu": {},
   "number_sections": true,
   "sideBar": true,
   "skip_h1_title": false,
   "toc_cell": false,
   "toc_position": {},
   "toc_section_display": "block",
   "toc_window_display": false
  },
  "varInspector": {
   "cols": {
    "lenName": 16,
    "lenType": 16,
    "lenVar": 40
   },
   "kernels_config": {
    "python": {
     "delete_cmd_postfix": "",
     "delete_cmd_prefix": "del ",
     "library": "var_list.py",
     "varRefreshCmd": "print(var_dic_list())"
    },
    "r": {
     "delete_cmd_postfix": ") ",
     "delete_cmd_prefix": "rm(",
     "library": "var_list.r",
     "varRefreshCmd": "cat(var_dic_list()) "
    }
   },
   "types_to_exclude": [
    "module",
    "function",
    "builtin_function_or_method",
    "instance",
    "_Feature"
   ],
   "window_display": false
  }
 },
 "nbformat": 4,
 "nbformat_minor": 2
}
